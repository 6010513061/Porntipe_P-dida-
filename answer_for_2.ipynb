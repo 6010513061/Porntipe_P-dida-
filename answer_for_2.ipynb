from distutils.log import error
from math import nan
from operator import index, indexOf
from tokenize import Ignore
import pyarrow.feather as pr
from datetime import datetime
import pandas as pd
# จงระบุประสิทธิภาพการใช้ห้องผ่าตัดในภาพรวมของทุกห้องในกะเช้า 
# 1. ประสิทธิภาพการใช้ห้องผ่าตัดแต่ละห้องคือ เวลาที่ใช้ในห้องผ่าตัดรวมของแต่ละห้องในกะนั้นๆ/เวลาทำการของแต่ละห้องในกะนั้นๆ
# 2. กะเช้า คือ เวลาตั้งแต่ 08:31-16:30 น.

f1=pr.read_feather("C:\\Users\\acer\\Downloads\\exam1 (3).feather")
c_f1=f1.loc[(f1["or_indate"]!="NULL")&(f1["or_indate"]!="0000-00-00")
            &(f1["rr_indate"]!="NULL")&(f1["rr_indate"]!='0000-00-00')
            &(f1["or_intime"]!="NULL")
            &(f1["rr_intime"]!="NULL")
            &(f1["uid"]!="NULL")]
# convert datetime series to datetime
c_f1["or_indate"] = c_f1["or_indate"].str.replace('-','')
c_f1["or_intime"] = c_f1["or_intime"].str.replace('.','')
c_f1["rr_indate"] = c_f1["rr_indate"].str.replace('-','')
c_f1["rr_intime"] = c_f1["rr_intime"].str.replace('.','')
c_f1["or_str"]=c_f1["or_indate"]+c_f1["or_intime"]
c_f1["rr_str"]=c_f1["rr_indate"]+c_f1["rr_intime"]

# c_f1["or_datetime"]=datetime.strptime(c_f1["or_str"],'%Y%m%d%H%M')
lst_or=[]
lst_rr=[]
for i in range(len(c_f1["or_str"])):
    or_datetime=c_f1["or_str"]
    rr_datetime=c_f1["rr_str"]
    try:
        or_in= datetime.strptime(or_datetime.iloc[i],'%Y%m%d%H%M')
        rr_in=datetime.strptime(rr_datetime.iloc[i],'%Y%m%d%H%M')
        lst_or.append(or_in)
        lst_rr.append(rr_in)
    except ValueError:
        lst_or.append("Nan")
        lst_rr.append("Nan")
    except TypeError:
        continue
c_f1["or_datetime"]=lst_or
c_f1["rr_datetime"]=lst_rr
c_f1=c_f1.loc[(c_f1["or_datetime"]!="Nan")&(c_f1["rr_datetime"]!="Nan")]
from datetime import timedelta
# merge room
room = c_f1.drop_duplicates("room",keep='first')
# print(max(c_f1['or_datetime']),min(c_f1['or_datetime']))
on_a_day={}
eff_room={}
count=0
sum=datetime.strptime('0000','%H%M')
g_in=[]
c_f1['timedif']=c_f1['rr_datetime']-c_f1['or_datetime']
for i in room['room']:
    rm=c_f1.loc[(c_f1['room']=='{rn}'.format(rn=i))]
    for r in range(len(rm)):
        rr=c_f1.iloc[r]
        sum+=rr['timedif']
        if sum>=datetime.strptime('2358','%H%M')and rr['room']=='{fd}'.format(fd=i):
            g_in.append(i)
        else:
            on_a_day.setdefault(i,sum)
total=0
m_time=((365*2)+130)*8
all_time={}
for m in room['room']:
    hr=float(24*g_in.count(m))
    dd=datetime.strftime(on_a_day[m],format='%H%M')
    dd='{s1}'.format(s1=dd[0:2])+'.'+'{s2}'.format(s2=dd[2:])
    tl=float(hr)+float(dd)
    eff=(tl/m_time)*100
    eff_room.setdefault(m,eff)
    all_time.setdefault(m,tl)
    
prep_eff={'room':eff_room.keys(),'efficiency (%)':eff_room.values()}
prep_time={'room':all_time.keys(),'timeused (hr)':all_time.values()}

#create datafrme timeused and eff for merge data
data_all_time=pd.DataFrame(data=prep_eff)
data_or = pd.DataFrame(data=prep_time)
data_or=data_or.merge(data_all_time,on='room')
        
data_or.sort_values(by=['room'],inplace=True,ignore_index=True)
data_or
out=data_or.to_excel('D:\\dida\\answer_v1.xlsx')
out
